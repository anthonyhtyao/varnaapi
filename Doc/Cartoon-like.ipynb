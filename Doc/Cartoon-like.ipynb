{
 "cells": [
  {
   "cell_type": "code",
   "execution_count": 1,
   "id": "b9bbf9f6",
   "metadata": {},
   "outputs": [],
   "source": [
    "import varnaapi"
   ]
  },
  {
   "cell_type": "code",
   "execution_count": 2,
   "id": "5effefae",
   "metadata": {},
   "outputs": [],
   "source": [
    "aptamer = '(((((...((((((((.....)))))...)))...)))))............................'\n",
    "length = len(aptamer)\n",
    "color = 'lightgreen'"
   ]
  },
  {
   "cell_type": "code",
   "execution_count": 3,
   "id": "dda42781",
   "metadata": {},
   "outputs": [
    {
     "name": "stdout",
     "output_type": "stream",
     "text": [
      "['java', '-cp', 'VARNAv3-93.jar', 'fr.orsay.lri.varna.applications.VARNAcmd', '-sequenceDBN', '                                                                    ', '-structureDBN', '(((((...((((((((.....)))))...)))...)))))............................', '-o', 'ribo_cartoon.png', '-drawBackbone', 'False', '-drawBases', 'False', '-fillBases', 'False', '-baseNum', '#ffffff', '-spaceBetweenBases', '0.5', '-bpStyle', 'none', '-highlightRegion', '1-68:radius=5.0,fill=#90ee90,outline=#90ee90']\n"
     ]
    },
    {
     "name": "stderr",
     "output_type": "stream",
     "text": [
      "Output file: ribo_cartoon.png\n",
      "\n"
     ]
    },
    {
     "data": {
      "image/png": "[encoded data removed]",
      "text/plain": [
       "<IPython.core.display.Image object>"
      ]
     },
     "metadata": {},
     "output_type": "display_data"
    }
   ],
   "source": [
    "v = varnaapi.Structure(structure=aptamer)\n",
    "v.update(bpStyle='none', baseNum='white', drawBackbone=False, drawBases=False, fillBases=False, spaceBetweenBases=0.5)\n",
    "v.add_highlight_region(0, length-1, radius=5, fill=color, outline=color)\n",
    "# v.dump_param('cartoon.yml')\n",
    "v.savefig('ribo_cartoon.png', show=True)"
   ]
  },
  {
   "cell_type": "markdown",
   "id": "aed52798",
   "metadata": {},
   "source": [
    "One can store the configuration for further"
   ]
  },
  {
   "cell_type": "code",
   "execution_count": 4,
   "id": "91d94db1",
   "metadata": {},
   "outputs": [],
   "source": [
    "v.dump_param('cartoon.yml')"
   ]
  },
  {
   "cell_type": "code",
   "execution_count": 5,
   "id": "e6809c4c",
   "metadata": {},
   "outputs": [],
   "source": [
    "aptSeq = 'NNNNGAUACCAGCAUCGUCUUGAUGCCCUUGGCAGCNNNNNNNNNNNNNNNNNNNNNNNNUUUUUUUU'\n",
    "regions = [(0,3), (36,59)]"
   ]
  },
  {
   "cell_type": "code",
   "execution_count": 6,
   "id": "34edee5e",
   "metadata": {},
   "outputs": [
    {
     "name": "stdout",
     "output_type": "stream",
     "text": [
      "['java', '-cp', 'VARNAv3-93.jar', 'fr.orsay.lri.varna.applications.VARNAcmd', '-sequenceDBN', '    GAUACCAGCAUCGUCUUGAUGCCCUUGGCAGC                        UUUUUUUU', '-structureDBN', '(((((...((((((((.....)))))...)))...)))))............................', '-o', 'ribo_cartoon.png', '-drawBackbone', 'False', '-drawBases', 'False', '-fillBases', 'False', '-baseNum', '#ffffff', '-spaceBetweenBases', '0.5', '-bpStyle', 'none', '-highlightRegion', '1-4:radius=5.0,fill=#90ee90,outline=#90ee90;37-60:radius=5.0,fill=#90ee90,outline=#90ee90']\n"
     ]
    },
    {
     "name": "stderr",
     "output_type": "stream",
     "text": [
      "Output file: ribo_cartoon.png\n",
      "\n"
     ]
    },
    {
     "data": {
      "image/png": "[encoded data removed]",
      "text/plain": [
       "<IPython.core.display.Image object>"
      ]
     },
     "metadata": {},
     "output_type": "display_data"
    }
   ],
   "source": [
    "v = varnaapi.Structure(sequence=aptSeq.replace('N', ' '), structure=aptamer)\n",
    "v.load_param('cartoon.yml')\n",
    "for i, j in regions:\n",
    "    v.add_highlight_region(i, j, radius=5, fill=color, outline=color)\n",
    "v.savefig('ribo_cartoon.png', show=True)"
   ]
  },
  {
   "cell_type": "markdown",
   "id": "5799a098",
   "metadata": {},
   "source": [
    "One can set the configuration as global"
   ]
  },
  {
   "cell_type": "code",
   "execution_count": 7,
   "id": "a6c94b4d",
   "metadata": {},
   "outputs": [],
   "source": [
    "varnaapi.load_config('cartoon.yml')"
   ]
  },
  {
   "cell_type": "code",
   "execution_count": 8,
   "id": "22deba1c",
   "metadata": {},
   "outputs": [],
   "source": [
    "specRegions = [(4,35)]\n",
    "darker = 'green'"
   ]
  },
  {
   "cell_type": "code",
   "execution_count": 9,
   "id": "818fadc2",
   "metadata": {},
   "outputs": [
    {
     "name": "stdout",
     "output_type": "stream",
     "text": [
      "['java', '-cp', 'VARNAv3-93.jar', 'fr.orsay.lri.varna.applications.VARNAcmd', '-sequenceDBN', '                                                            UUUUUUUU', '-structureDBN', '(((((...((((((((.....)))))...)))...)))))............................', '-o', 'ribo_cartoon.png', '-drawBackbone', 'False', '-drawBases', 'False', '-fillBases', 'False', '-baseNum', '#ffffff', '-spaceBetweenBases', '0.5', '-bpStyle', 'none', '-highlightRegion', '1-4:radius=5.0,fill=#90ee90,outline=#90ee90;37-60:radius=5.0,fill=#90ee90,outline=#90ee90;5-36:radius=5.0,fill=#008000,outline=#008000']\n"
     ]
    },
    {
     "name": "stderr",
     "output_type": "stream",
     "text": [
      "Output file: ribo_cartoon.png\n",
      "\n"
     ]
    },
    {
     "data": {
      "image/png": "[encoded data removed]",
      "text/plain": [
       "<IPython.core.display.Image object>"
      ]
     },
     "metadata": {},
     "output_type": "display_data"
    }
   ],
   "source": [
    "v = varnaapi.Structure(sequence=' '*60+'UUUUUUUU', structure=aptamer)\n",
    "for i, j in regions:\n",
    "    v.add_highlight_region(i, j, radius=5, fill=color, outline=color)\n",
    "for i, j in specRegions:\n",
    "    v.add_highlight_region(i, j, radius=5, fill=darker, outline=darker)\n",
    "v.savefig('ribo_cartoon.png', show=True)"
   ]
  }
 ],
 "metadata": {
  "kernelspec": {
   "display_name": "Python 3",
   "language": "python",
   "name": "python3"
  },
  "language_info": {
   "codemirror_mode": {
    "name": "ipython",
    "version": 3
   },
   "file_extension": ".py",
   "mimetype": "text/x-python",
   "name": "python",
   "nbconvert_exporter": "python",
   "pygments_lexer": "ipython3",
   "version": "3.10.1"
  }
 },
 "nbformat": 4,
 "nbformat_minor": 5
}
